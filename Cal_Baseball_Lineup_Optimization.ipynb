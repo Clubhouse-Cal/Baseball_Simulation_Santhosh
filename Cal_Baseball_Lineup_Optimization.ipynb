{
 "cells": [
  {
   "cell_type": "code",
   "execution_count": 1,
   "metadata": {
    "collapsed": false
   },
   "outputs": [],
   "source": [
    "import pandas as pd\n",
    "import random"
   ]
  },
  {
   "cell_type": "code",
   "execution_count": 2,
   "metadata": {
    "collapsed": true
   },
   "outputs": [],
   "source": [
    "baseball_players = pd.read_csv(\"/home/santhoshsubramanian101/Cal_Baseball.csv\")"
   ]
  },
  {
   "cell_type": "code",
   "execution_count": 3,
   "metadata": {
    "collapsed": false
   },
   "outputs": [],
   "source": [
    "players = baseball_players.drop(['Unif', 'Age', 'HiLvl', 'Draft Information', 'Status', 'Current Org (Level)'], axis = 1)"
   ]
  },
  {
   "cell_type": "code",
   "execution_count": 4,
   "metadata": {
    "collapsed": true
   },
   "outputs": [],
   "source": [
    "players = players.drop([9, 10, 11, 12, 13, 14, 15, 16, 17, 18])"
   ]
  },
  {
   "cell_type": "code",
   "execution_count": 5,
   "metadata": {
    "collapsed": false
   },
   "outputs": [
    {
     "data": {
      "text/plain": [
       "Index(['Player', 'Pos', 'Ba', 'G', 'AB', 'R', 'H', '2B', '3B', 'HR', 'RBI',\n",
       "       'SB', 'CS', 'BB', 'SO', 'HBP', 'SH', 'SF', 'IBB', 'DP', 'AVG', 'OBP',\n",
       "       'SLG', 'OPS', 'TB', 'XBH', 'PA', 'babip', 'ISO', 'SecA', 'wOBA', 'BB%',\n",
       "       'SO%', 'K-BB', 'HR%', 'AB/HR', 'XBH%'],\n",
       "      dtype='object')"
      ]
     },
     "execution_count": 5,
     "metadata": {},
     "output_type": "execute_result"
    }
   ],
   "source": [
    "players.columns"
   ]
  },
  {
   "cell_type": "code",
   "execution_count": 6,
   "metadata": {
    "collapsed": false
   },
   "outputs": [
    {
     "data": {
      "text/html": [
       "<div>\n",
       "<table border=\"1\" class=\"dataframe\">\n",
       "  <thead>\n",
       "    <tr style=\"text-align: right;\">\n",
       "      <th></th>\n",
       "      <th>Player</th>\n",
       "      <th>Pos</th>\n",
       "      <th>Ba</th>\n",
       "      <th>G</th>\n",
       "      <th>AB</th>\n",
       "      <th>R</th>\n",
       "      <th>H</th>\n",
       "      <th>2B</th>\n",
       "      <th>3B</th>\n",
       "      <th>HR</th>\n",
       "      <th>...</th>\n",
       "      <th>babip</th>\n",
       "      <th>ISO</th>\n",
       "      <th>SecA</th>\n",
       "      <th>wOBA</th>\n",
       "      <th>BB%</th>\n",
       "      <th>SO%</th>\n",
       "      <th>K-BB</th>\n",
       "      <th>HR%</th>\n",
       "      <th>AB/HR</th>\n",
       "      <th>XBH%</th>\n",
       "    </tr>\n",
       "  </thead>\n",
       "  <tbody>\n",
       "    <tr>\n",
       "      <th>0</th>\n",
       "      <td>Tanner Dodson</td>\n",
       "      <td>p</td>\n",
       "      <td>B</td>\n",
       "      <td>54</td>\n",
       "      <td>228</td>\n",
       "      <td>40</td>\n",
       "      <td>73</td>\n",
       "      <td>12</td>\n",
       "      <td>0</td>\n",
       "      <td>1</td>\n",
       "      <td>...</td>\n",
       "      <td>0.381</td>\n",
       "      <td>0.066</td>\n",
       "      <td>0.180</td>\n",
       "      <td>0.342</td>\n",
       "      <td>7.5</td>\n",
       "      <td>15.7</td>\n",
       "      <td>2.1</td>\n",
       "      <td>0.4</td>\n",
       "      <td>228.0</td>\n",
       "      <td>17.8</td>\n",
       "    </tr>\n",
       "    <tr>\n",
       "      <th>1</th>\n",
       "      <td>Tyrus Greene</td>\n",
       "      <td>c</td>\n",
       "      <td>L</td>\n",
       "      <td>54</td>\n",
       "      <td>219</td>\n",
       "      <td>41</td>\n",
       "      <td>70</td>\n",
       "      <td>7</td>\n",
       "      <td>0</td>\n",
       "      <td>3</td>\n",
       "      <td>...</td>\n",
       "      <td>0.368</td>\n",
       "      <td>0.073</td>\n",
       "      <td>0.228</td>\n",
       "      <td>0.362</td>\n",
       "      <td>10.9</td>\n",
       "      <td>13.6</td>\n",
       "      <td>1.3</td>\n",
       "      <td>1.2</td>\n",
       "      <td>73.0</td>\n",
       "      <td>14.3</td>\n",
       "    </tr>\n",
       "    <tr>\n",
       "      <th>2</th>\n",
       "      <td>Andrew Vaughn</td>\n",
       "      <td>1b</td>\n",
       "      <td>R</td>\n",
       "      <td>54</td>\n",
       "      <td>199</td>\n",
       "      <td>59</td>\n",
       "      <td>80</td>\n",
       "      <td>14</td>\n",
       "      <td>0</td>\n",
       "      <td>23</td>\n",
       "      <td>...</td>\n",
       "      <td>0.358</td>\n",
       "      <td>0.417</td>\n",
       "      <td>0.638</td>\n",
       "      <td>0.551</td>\n",
       "      <td>17.2</td>\n",
       "      <td>7.0</td>\n",
       "      <td>0.4</td>\n",
       "      <td>9.0</td>\n",
       "      <td>8.7</td>\n",
       "      <td>46.3</td>\n",
       "    </tr>\n",
       "    <tr>\n",
       "      <th>3</th>\n",
       "      <td>Jonah Davis</td>\n",
       "      <td>of</td>\n",
       "      <td>L</td>\n",
       "      <td>54</td>\n",
       "      <td>193</td>\n",
       "      <td>48</td>\n",
       "      <td>62</td>\n",
       "      <td>9</td>\n",
       "      <td>2</td>\n",
       "      <td>14</td>\n",
       "      <td>...</td>\n",
       "      <td>0.449</td>\n",
       "      <td>0.285</td>\n",
       "      <td>0.430</td>\n",
       "      <td>0.445</td>\n",
       "      <td>11.2</td>\n",
       "      <td>31.0</td>\n",
       "      <td>2.8</td>\n",
       "      <td>5.8</td>\n",
       "      <td>13.8</td>\n",
       "      <td>40.3</td>\n",
       "    </tr>\n",
       "    <tr>\n",
       "      <th>4</th>\n",
       "      <td>Darren Baker</td>\n",
       "      <td>ss</td>\n",
       "      <td>L</td>\n",
       "      <td>44</td>\n",
       "      <td>172</td>\n",
       "      <td>29</td>\n",
       "      <td>47</td>\n",
       "      <td>6</td>\n",
       "      <td>0</td>\n",
       "      <td>1</td>\n",
       "      <td>...</td>\n",
       "      <td>0.297</td>\n",
       "      <td>0.053</td>\n",
       "      <td>0.116</td>\n",
       "      <td>0.276</td>\n",
       "      <td>3.8</td>\n",
       "      <td>9.7</td>\n",
       "      <td>2.6</td>\n",
       "      <td>0.5</td>\n",
       "      <td>172.0</td>\n",
       "      <td>14.9</td>\n",
       "    </tr>\n",
       "    <tr>\n",
       "      <th>5</th>\n",
       "      <td>Sam Wezniak</td>\n",
       "      <td>if</td>\n",
       "      <td>R</td>\n",
       "      <td>46</td>\n",
       "      <td>154</td>\n",
       "      <td>29</td>\n",
       "      <td>37</td>\n",
       "      <td>7</td>\n",
       "      <td>0</td>\n",
       "      <td>6</td>\n",
       "      <td>...</td>\n",
       "      <td>0.287</td>\n",
       "      <td>0.163</td>\n",
       "      <td>0.299</td>\n",
       "      <td>0.328</td>\n",
       "      <td>11.4</td>\n",
       "      <td>22.7</td>\n",
       "      <td>2.0</td>\n",
       "      <td>3.2</td>\n",
       "      <td>25.7</td>\n",
       "      <td>35.1</td>\n",
       "    </tr>\n",
       "    <tr>\n",
       "      <th>6</th>\n",
       "      <td>Cameron Eden</td>\n",
       "      <td>if</td>\n",
       "      <td>R</td>\n",
       "      <td>44</td>\n",
       "      <td>154</td>\n",
       "      <td>20</td>\n",
       "      <td>38</td>\n",
       "      <td>7</td>\n",
       "      <td>0</td>\n",
       "      <td>0</td>\n",
       "      <td>...</td>\n",
       "      <td>0.314</td>\n",
       "      <td>0.045</td>\n",
       "      <td>0.162</td>\n",
       "      <td>0.268</td>\n",
       "      <td>8.7</td>\n",
       "      <td>21.4</td>\n",
       "      <td>2.5</td>\n",
       "      <td>0.0</td>\n",
       "      <td>0.0</td>\n",
       "      <td>18.4</td>\n",
       "    </tr>\n",
       "    <tr>\n",
       "      <th>7</th>\n",
       "      <td>Max Flower</td>\n",
       "      <td>of</td>\n",
       "      <td>R</td>\n",
       "      <td>47</td>\n",
       "      <td>150</td>\n",
       "      <td>21</td>\n",
       "      <td>43</td>\n",
       "      <td>7</td>\n",
       "      <td>2</td>\n",
       "      <td>1</td>\n",
       "      <td>...</td>\n",
       "      <td>0.375</td>\n",
       "      <td>0.093</td>\n",
       "      <td>0.167</td>\n",
       "      <td>0.310</td>\n",
       "      <td>6.7</td>\n",
       "      <td>23.8</td>\n",
       "      <td>3.6</td>\n",
       "      <td>0.6</td>\n",
       "      <td>150.0</td>\n",
       "      <td>23.3</td>\n",
       "    </tr>\n",
       "    <tr>\n",
       "      <th>8</th>\n",
       "      <td>Ripken Reyes</td>\n",
       "      <td>if</td>\n",
       "      <td>B</td>\n",
       "      <td>39</td>\n",
       "      <td>115</td>\n",
       "      <td>18</td>\n",
       "      <td>29</td>\n",
       "      <td>5</td>\n",
       "      <td>1</td>\n",
       "      <td>1</td>\n",
       "      <td>...</td>\n",
       "      <td>0.292</td>\n",
       "      <td>0.087</td>\n",
       "      <td>0.243</td>\n",
       "      <td>0.322</td>\n",
       "      <td>12.3</td>\n",
       "      <td>13.0</td>\n",
       "      <td>1.1</td>\n",
       "      <td>0.7</td>\n",
       "      <td>115.0</td>\n",
       "      <td>24.1</td>\n",
       "    </tr>\n",
       "  </tbody>\n",
       "</table>\n",
       "<p>9 rows × 37 columns</p>\n",
       "</div>"
      ],
      "text/plain": [
       "          Player Pos Ba   G   AB   R   H  2B  3B  HR  ...   babip    ISO  \\\n",
       "0  Tanner Dodson   p  B  54  228  40  73  12   0   1  ...   0.381  0.066   \n",
       "1   Tyrus Greene   c  L  54  219  41  70   7   0   3  ...   0.368  0.073   \n",
       "2  Andrew Vaughn  1b  R  54  199  59  80  14   0  23  ...   0.358  0.417   \n",
       "3    Jonah Davis  of  L  54  193  48  62   9   2  14  ...   0.449  0.285   \n",
       "4   Darren Baker  ss  L  44  172  29  47   6   0   1  ...   0.297  0.053   \n",
       "5    Sam Wezniak  if  R  46  154  29  37   7   0   6  ...   0.287  0.163   \n",
       "6   Cameron Eden  if  R  44  154  20  38   7   0   0  ...   0.314  0.045   \n",
       "7     Max Flower  of  R  47  150  21  43   7   2   1  ...   0.375  0.093   \n",
       "8   Ripken Reyes  if  B  39  115  18  29   5   1   1  ...   0.292  0.087   \n",
       "\n",
       "    SecA   wOBA   BB%   SO%  K-BB  HR%  AB/HR  XBH%  \n",
       "0  0.180  0.342   7.5  15.7   2.1  0.4  228.0  17.8  \n",
       "1  0.228  0.362  10.9  13.6   1.3  1.2   73.0  14.3  \n",
       "2  0.638  0.551  17.2   7.0   0.4  9.0    8.7  46.3  \n",
       "3  0.430  0.445  11.2  31.0   2.8  5.8   13.8  40.3  \n",
       "4  0.116  0.276   3.8   9.7   2.6  0.5  172.0  14.9  \n",
       "5  0.299  0.328  11.4  22.7   2.0  3.2   25.7  35.1  \n",
       "6  0.162  0.268   8.7  21.4   2.5  0.0    0.0  18.4  \n",
       "7  0.167  0.310   6.7  23.8   3.6  0.6  150.0  23.3  \n",
       "8  0.243  0.322  12.3  13.0   1.1  0.7  115.0  24.1  \n",
       "\n",
       "[9 rows x 37 columns]"
      ]
     },
     "execution_count": 6,
     "metadata": {},
     "output_type": "execute_result"
    }
   ],
   "source": [
    "players"
   ]
  },
  {
   "cell_type": "code",
   "execution_count": 7,
   "metadata": {
    "collapsed": false
   },
   "outputs": [
    {
     "data": {
      "text/plain": [
       "['Tanner Dodson',\n",
       " 'Tyrus Greene',\n",
       " 'Andrew Vaughn',\n",
       " 'Jonah Davis',\n",
       " 'Darren Baker',\n",
       " 'Sam Wezniak',\n",
       " 'Cameron Eden',\n",
       " 'Max Flower',\n",
       " 'Ripken Reyes']"
      ]
     },
     "execution_count": 7,
     "metadata": {},
     "output_type": "execute_result"
    }
   ],
   "source": [
    "order = []\n",
    "lineup = players[['Player']].copy().values\n",
    "for x in range(0, 9):\n",
    "  order.append(lineup[x][0])\n",
    "order"
   ]
  },
  {
   "cell_type": "code",
   "execution_count": 8,
   "metadata": {
    "collapsed": false
   },
   "outputs": [
    {
     "name": "stdout",
     "output_type": "stream",
     "text": [
      "Chris Clements\n"
     ]
    }
   ],
   "source": [
    "pitcher = input()"
   ]
  },
  {
   "cell_type": "code",
   "execution_count": 9,
   "metadata": {
    "collapsed": true
   },
   "outputs": [],
   "source": [
    "x = str(pitcher)"
   ]
  },
  {
   "cell_type": "code",
   "execution_count": 10,
   "metadata": {
    "collapsed": false
   },
   "outputs": [
    {
     "data": {
      "text/plain": [
       "'Chris Clements'"
      ]
     },
     "execution_count": 10,
     "metadata": {},
     "output_type": "execute_result"
    }
   ],
   "source": [
    "x"
   ]
  },
  {
   "cell_type": "code",
   "execution_count": 11,
   "metadata": {
    "collapsed": false
   },
   "outputs": [
    {
     "data": {
      "text/plain": [
       "Index(['NAME', 'LHH:BAA', 'LHH:BABIP', 'LHH:OPS', 'LHH:S/M', 'LHH:GB',\n",
       "       'LHH:FB', 'LHH:HBP', 'RHH:BAA', 'RHH:BABIP', 'RHH:OPS', 'RHH:S/M',\n",
       "       'RHH:GB', 'RHH:FB', 'RHH:HBP', 'L3AP:BF', 'L3AP:BAA', 'L3AP:OPS',\n",
       "       'L3AP:SO/BB', 'ROLE:ENTRY', 'ROLE:SCORE', 'ROLE:IP/AP', 'HOME:BAA',\n",
       "       'HOME:WHIP', 'HOME:OPS', 'HOME:SO/BB', 'ROAD:BAA', 'ROAD:WHIP',\n",
       "       'ROAD:OPS', 'ROAD:SO/BB', 'CONFERENCE:BAA', 'CONFERENCE:WHIP',\n",
       "       'CONFERENCE:OPS', 'CONFERENCE:SO/BB', 'BATTEDBALLS:GB',\n",
       "       'BATTEDBALLS:FB', 'BATTEDBALLS:LD', 'BATTEDBALLS:IFFB',\n",
       "       'BATTEDBALLS:PU', 'AA:FIP', 'AA:LOP', 'AA:HR/FB', 'AA:P/PA', 'AA:1PK',\n",
       "       'AAK%', 'AAL00%', 'AA1-1W%', '0STRIKE:0-0', '0STRIKE:0-0.1',\n",
       "       '0STRIKE:1-0', '0STRIKE:1-0.1', '0STRIKE:2-0', '0STRIKE:2-0.1',\n",
       "       '0STRIKE:3-0', '0STRIKE:3-0.1', '1STRIKE:0-1', '1STRIKE:0-1.1',\n",
       "       '1STRIKE:1-1', '1STRIKE:1-1.1', '1STRIKE:2-1', '1STRIKE:2-1.1',\n",
       "       '1STRIKE:3-1', '1STRIKE:3-1.1', '2STRIKE:0-2', '2STRIKE:0-2.1',\n",
       "       '2STRIKE:1-2', '2STRIKE:1-2.1', '2STRIKE:2-2', '2STRIKE:2-2.1',\n",
       "       '2STRIKE:3-2', '2STRIKE:3-2.1'],\n",
       "      dtype='object')"
      ]
     },
     "execution_count": 11,
     "metadata": {},
     "output_type": "execute_result"
    }
   ],
   "source": [
    "UCSB_Pitchers1 = pd.read_csv(\"/home/santhoshsubramanian101/UCSBPitchers1.csv\")\n",
    "UCSB_Pitchers2 = pd.read_csv(\"/home/santhoshsubramanian101/UCSBPitchers2.csv\")\n",
    "UCSB_Pitchers3 = pd.read_csv(\"/home/santhoshsubramanian101/UCSBPitchers3.csv\")\n",
    "UCSB_Stats = pd.read_csv(\"UCSB_Pitcher_Stats_(1).csv\")\n",
    "Combined = pd.concat([UCSB_Pitchers1, UCSB_Pitchers2, UCSB_Pitchers3], axis = 1).T.drop_duplicates().T.drop(['Unnamed: 0', '#'], axis = 1)\n",
    "pitcher = Combined.loc[Combined['NAME'] == x]\n",
    "pitcher.columns"
   ]
  },
  {
   "cell_type": "code",
   "execution_count": 12,
   "metadata": {
    "collapsed": false
   },
   "outputs": [
    {
     "data": {
      "text/plain": [
       "Index(['NAME', 'YR', 'POS', 'APP', 'GS', 'W', 'L', 'SV', 'CG', 'IP', 'H', 'R',\n",
       "       'ER', 'BB', 'K', 'K/9', 'HR', 'ERA'],\n",
       "      dtype='object')"
      ]
     },
     "execution_count": 12,
     "metadata": {},
     "output_type": "execute_result"
    }
   ],
   "source": [
    "pitcher_more_stats = UCSB_Stats.loc[UCSB_Stats['NAME'] == x].drop(['NO.'], axis = 1)\n",
    "pitcher_more_stats = pitcher_more_stats.reset_index().drop(['index'], axis = 1)\n",
    "pitcher_more_stats.columns"
   ]
  },
  {
   "cell_type": "code",
   "execution_count": 13,
   "metadata": {
    "collapsed": false
   },
   "outputs": [
    {
     "data": {
      "text/html": [
       "<div>\n",
       "<table border=\"1\" class=\"dataframe\">\n",
       "  <thead>\n",
       "    <tr style=\"text-align: right;\">\n",
       "      <th></th>\n",
       "      <th>NAME</th>\n",
       "      <th>LHH:BAA</th>\n",
       "      <th>LHH:BABIP</th>\n",
       "      <th>LHH:OPS</th>\n",
       "      <th>LHH:S/M</th>\n",
       "      <th>LHH:GB</th>\n",
       "      <th>LHH:FB</th>\n",
       "      <th>LHH:HBP</th>\n",
       "      <th>RHH:BAA</th>\n",
       "      <th>RHH:BABIP</th>\n",
       "      <th>...</th>\n",
       "      <th>CG</th>\n",
       "      <th>IP</th>\n",
       "      <th>H</th>\n",
       "      <th>R</th>\n",
       "      <th>ER</th>\n",
       "      <th>BB</th>\n",
       "      <th>K</th>\n",
       "      <th>K/9</th>\n",
       "      <th>HR</th>\n",
       "      <th>ERA</th>\n",
       "    </tr>\n",
       "  </thead>\n",
       "  <tbody>\n",
       "    <tr>\n",
       "      <th>0</th>\n",
       "      <td>Chris Clements</td>\n",
       "      <td>0.267</td>\n",
       "      <td>0.275</td>\n",
       "      <td>0.752</td>\n",
       "      <td>7%</td>\n",
       "      <td>35%</td>\n",
       "      <td>46%</td>\n",
       "      <td>0</td>\n",
       "      <td>0.33</td>\n",
       "      <td>0.387</td>\n",
       "      <td>...</td>\n",
       "      <td>-</td>\n",
       "      <td>43.1</td>\n",
       "      <td>53</td>\n",
       "      <td>27</td>\n",
       "      <td>25</td>\n",
       "      <td>15</td>\n",
       "      <td>26</td>\n",
       "      <td>5.4</td>\n",
       "      <td>2</td>\n",
       "      <td>5.19</td>\n",
       "    </tr>\n",
       "  </tbody>\n",
       "</table>\n",
       "<p>1 rows × 89 columns</p>\n",
       "</div>"
      ],
      "text/plain": [
       "             NAME LHH:BAA LHH:BABIP LHH:OPS LHH:S/M LHH:GB LHH:FB LHH:HBP  \\\n",
       "0  Chris Clements   0.267     0.275   0.752      7%    35%    46%       0   \n",
       "\n",
       "  RHH:BAA RHH:BABIP  ...  CG    IP   H   R  ER  BB   K  K/9 HR   ERA  \n",
       "0    0.33     0.387  ...   -  43.1  53  27  25  15  26  5.4  2  5.19  \n",
       "\n",
       "[1 rows x 89 columns]"
      ]
     },
     "execution_count": 13,
     "metadata": {},
     "output_type": "execute_result"
    }
   ],
   "source": [
    "columns1 = pitcher.columns\n",
    "columns2 = pitcher_more_stats.columns\n",
    "set(columns1) & set(columns2)\n",
    "Combined = pd.concat([pitcher, pitcher_more_stats], axis = 1)\n",
    "Combined"
   ]
  },
  {
   "cell_type": "code",
   "execution_count": 14,
   "metadata": {
    "collapsed": false
   },
   "outputs": [
    {
     "data": {
      "text/plain": [
       "0.07602635580334516"
      ]
     },
     "execution_count": 14,
     "metadata": {},
     "output_type": "execute_result"
    }
   ],
   "source": [
    "walk_average = float(Combined.loc[0, 'BB'])/(float(Combined.loc[0, 'BB']) + float(Combined.loc[0, 'IP'])*3 + float(Combined.loc[0, 'H']))\n",
    "walk_average"
   ]
  },
  {
   "cell_type": "code",
   "execution_count": 15,
   "metadata": {
    "collapsed": true
   },
   "outputs": [],
   "source": [
    "def start(order):\n",
    "    #pitcher = Chris[['NAME']].copy().values\n",
    "    runs = [0]\n",
    "    index = [0]\n",
    "    outs = 0\n",
    "    bases = [0, 0, 0]\n",
    "    for i in range(0,6):\n",
    "      while outs < 3:\n",
    "        #print(order)\n",
    "        batter = order[index[0]]\n",
    "        combined_array = at_bat(batter, bases, outs, runs[0]) \n",
    "        bases = combined_array[0]\n",
    "        #if runs[0] != combined_array[1]:\n",
    "          #print(str(runs[0]) + \" \" + \"Run Scored!\")\n",
    "        runs[0] = combined_array[1]\n",
    "        #if outs != combined_array[2]:\n",
    "          #print(\"Out\" + \" \" + str(outs + 1) + \"!\")\n",
    "          #print(\" \")\n",
    "        outs = combined_array[2]\n",
    "        value = index[0]\n",
    "        if value >= (len(order) - 1):\n",
    "          value = -1\n",
    "        index[0] = value + 1\n",
    "      #print(\"End of Innings:\" + \" \" + str(i + 1) + \"!\" + \" \" + \"Total Runs:\" + \" \" + str(runs[0]))\n",
    "      #print(\"-----------\")\n",
    "      #print(\" \")\n",
    "      outs = 0\n",
    "      bases = [0, 0, 0]\n",
    "    return runs[0]"
   ]
  },
  {
   "cell_type": "code",
   "execution_count": 17,
   "metadata": {
    "collapsed": true
   },
   "outputs": [],
   "source": [
    "def at_bat(batter, bases, outs, runs):\n",
    "    x = random.uniform(0,1)\n",
    "    weighted_ba = get_weighted_ba(batter)\n",
    "    walk_average = float(Combined.loc[0, 'BB'])/(float(Combined.loc[0, 'BB']) + float(Combined.loc[0, 'IP'])*3 + float(Combined.loc[0, 'H']))\n",
    "    #print(weighted_ba + walk_average)\n",
    "    #print(weighted_ba)\n",
    "    if (x <= weighted_ba):\n",
    "        #print(\"Batter\" + \" \" + str(batter) + \":\" + \" \" + batter + \" \" + \"hit!\")\n",
    "        array = move_runner(batter, bases, runs)\n",
    "        bases = array[0]\n",
    "        runs = array[1]\n",
    "    #print(bases)\n",
    "      #print(\" \")\n",
    "    if (x > weighted_ba and x <= weighted_ba + walk_average):\n",
    "        array = walk(batter, bases, runs)\n",
    "        bases = array[0]\n",
    "        runs = array[1]\n",
    "    if (x > weighted_ba + walk_average):\n",
    "        outs += 1\n",
    "        #print(\"Batter\" + \" \" + str(batter) + \":\" + \" \" + batter + \" \" + \"out!\")\n",
    "        #print(\" \")\n",
    "        name = [i for i, x in enumerate(bases) if x == 1]\n",
    "        #print(bases)\n",
    "    return (bases, runs, outs)"
   ]
  },
  {
   "cell_type": "code",
   "execution_count": 18,
   "metadata": {
    "collapsed": false
   },
   "outputs": [],
   "source": [
    "def walk(batter, bases, runs):\n",
    "    indices = [i for i, x in enumerate(bases) if x == 1]\n",
    "    if len(indices) > 0:\n",
    "      if len(indices) == 1:\n",
    "        if 0 in indices or 1 in indices:\n",
    "            bases = [1, 1, 0]\n",
    "        if 2 in indices:\n",
    "            bases = [1, 0, 1]  \n",
    "      elif len(indices) == 2:\n",
    "        bases = [1, 1, 1]\n",
    "      elif len(indices) == 3:\n",
    "        runs += 1\n",
    "        bases = [1, 1, 1]\n",
    "    else:\n",
    "        bases = [1, 0, 0]\n",
    "    comb = (bases, runs)\n",
    "    return comb"
   ]
  },
  {
   "cell_type": "code",
   "execution_count": 19,
   "metadata": {
    "collapsed": true
   },
   "outputs": [],
   "source": [
    "def move_runner(batter, bases, runs):\n",
    "  indices = [i for i, x in enumerate(bases) if x == 1]\n",
    "  x = random.uniform(0,1)\n",
    "  second_base_prob = float(players.loc[players['Player'] == batter, '2B'])/float(players.loc[players['Player'] == batter, 'H'])\n",
    "  third_base_prob = float(players.loc[players['Player'] == batter, '3B'])/float(players.loc[players['Player'] == batter, 'H'])\n",
    "  hr_prob = float(players.loc[players['Player'] == batter, 'HR'])/float(players.loc[players['Player'] == batter, 'H'])\n",
    "  value1 = second_base_prob + third_base_prob\n",
    "  value2 = second_base_prob + third_base_prob + hr_prob\n",
    "  if x <= second_base_prob:\n",
    "        #print(\"double\")\n",
    "        array = double(indices, runs)\n",
    "  elif x > second_base_prob and x <= second_base_prob + third_base_prob:\n",
    "    #print(\"triple\")\n",
    "    array = triple(indices, runs)\n",
    "  elif x > second_base_prob + third_base_prob and x <= second_base_prob + third_base_prob + hr_prob:\n",
    "    #print(\"hr\")\n",
    "    array = hr(indices, runs)\n",
    "  else:\n",
    "    #print(\"single\")\n",
    "    array = single(indices, runs)\n",
    "  return array"
   ]
  },
  {
   "cell_type": "code",
   "execution_count": 20,
   "metadata": {
    "collapsed": true
   },
   "outputs": [],
   "source": [
    "def single(indices, runs):\n",
    "  if len(indices) > 0:\n",
    "      #Man on First\n",
    "      if len(indices) == 1:\n",
    "        if 0 in indices:\n",
    "          bases = [1, 1, 0]\n",
    "        if 1 in indices or 2 in indices:\n",
    "          runs += 1\n",
    "          bases = [1, 0, 0]\n",
    "      elif len(indices) == 2:\n",
    "        if 0 in indices and 1 in indices:\n",
    "          runs += 1\n",
    "          bases = [1, 1, 0]\n",
    "        if 1 in indices and 2 in indices:\n",
    "          runs += 2\n",
    "          bases = [1, 0, 0]\n",
    "        if 0 in indices and 2 in indices:\n",
    "          runs += 1\n",
    "          bases = [1, 0, 1]\n",
    "      elif len(indices) == 3:\n",
    "        runs += 2\n",
    "        bases = [1, 0, 0]\n",
    "  else:\n",
    "    bases = [1, 0, 0]\n",
    "  comb = (bases, runs)\n",
    "  return comb"
   ]
  },
  {
   "cell_type": "code",
   "execution_count": 21,
   "metadata": {
    "collapsed": false
   },
   "outputs": [],
   "source": [
    "def double(indices, runs):\n",
    "  if len(indices) > 0:\n",
    "    if len(indices) == 1:\n",
    "        if 0 in indices:\n",
    "          bases = [0, 1, 1]\n",
    "        if 1 in indices or 2 in indices:\n",
    "          runs += 2\n",
    "          bases = [0, 1, 0]\n",
    "    elif len(indices) == 2:\n",
    "        if 0 in indices and 1 in indices:\n",
    "          runs += 1\n",
    "          bases = [0, 1, 1]\n",
    "        if 1 in indices and 2 in indices:\n",
    "          runs += 2\n",
    "          bases = [0, 1, 0]\n",
    "        if 0 in indices and 2 in indices:\n",
    "          runs += 1\n",
    "          bases = [0, 1, 1]\n",
    "    elif len(indices) == 3:\n",
    "        runs += 2\n",
    "        bases = [0, 1, 1]\n",
    "  else:\n",
    "    bases = [0, 1, 0]\n",
    "  comb = (bases, runs)\n",
    "  return comb"
   ]
  },
  {
   "cell_type": "code",
   "execution_count": 22,
   "metadata": {
    "collapsed": true
   },
   "outputs": [],
   "source": [
    "def triple(indices, runs):\n",
    "    if len(indices) > 0:\n",
    "      runs += len(indices)\n",
    "      bases = [0, 0, 1]\n",
    "    else:\n",
    "      bases = [0, 0, 1]\n",
    "    comb = (bases, runs)\n",
    "    return comb\n",
    "def hr(indices, runs):\n",
    "    runs = runs + len(indices) + 1\n",
    "    bases = [0, 0, 0]\n",
    "    comb = (bases, runs)\n",
    "    return comb"
   ]
  },
  {
   "cell_type": "code",
   "execution_count": 23,
   "metadata": {
    "collapsed": false
   },
   "outputs": [],
   "source": [
    "#batting average is calculated by (BAA + Batter's Average + OPS)/4. If OPS is > 0.600, the batting average increases, whereas if OPS is < 0.600, the batting average decreases.\n",
    "def get_weighted_ba(batter):\n",
    "    hand = players.loc[players['Player'] == batter, 'Ba'].item()\n",
    "    if hand == 'L':\n",
    "      pitcher_batted_weighted = (Combined.loc[0, 'LHH:BAA']+(players.loc[players['Player'] == batter, 'AVG']).item() + Combined.loc[0, 'LHH:OPS'])/4\n",
    "    if hand == 'R':\n",
    "      pitcher_batted_weighted = (Combined.loc[0, 'RHH:BAA']+(players.loc[players['Player'] == batter, 'AVG']).item() + Combined.loc[0, 'RHH:OPS'])/4\n",
    "    if hand == 'B':\n",
    "      pitcher_batted_weighted = max((Combined.loc[0, 'RHH:BAA']+(players.loc[players['Player'] == batter, 'AVG']).item() + Combined.loc[0, 'RHH:OPS'])/4, \n",
    "                                    (Combined.loc[0, 'LHH:BAA']+(players.loc[players['Player'] == batter, 'AVG']).item() + Combined.loc[0, 'LHH:OPS'])/4)\n",
    "    return pitcher_batted_weighted"
   ]
  },
  {
   "cell_type": "code",
   "execution_count": 24,
   "metadata": {
    "collapsed": false
   },
   "outputs": [],
   "source": [
    "from multiprocessing import Pool\n",
    "import itertools\n",
    "import numpy as np\n",
    "\n",
    "\n",
    "split_order = order[0:6]\n",
    "array_combinations = []\n",
    "index_array = []\n",
    "for yes in itertools.permutations(split_order, 6):\n",
    "    array_combinations.append(yes)\n",
    "\n",
    "def func(order):\n",
    "    averages = []\n",
    "    index_array = []\n",
    "    for y in (range(0, 500)):\n",
    "        index_array.append(start(order))\n",
    "    averages.append(np.mean(index_array))\n",
    "    return averages\n",
    "\n",
    "pool = Pool(processes=48)\n",
    "process_1 = pool.map_async(func, array_combinations[0:15]).get()\n",
    "process_2 = pool.map_async(func, array_combinations[15:30]).get()\n",
    "process_3 = pool.map_async(func, array_combinations[30:45]).get()\n",
    "process_4 = pool.map_async(func, array_combinations[45:60]).get()\n",
    "process_5 = pool.map_async(func, array_combinations[60:75]).get()\n",
    "process_6 = pool.map_async(func, array_combinations[75:90]).get()\n",
    "process_7 = pool.map_async(func, array_combinations[90:105]).get()\n",
    "process_8 = pool.map_async(func, array_combinations[105:120]).get()\n",
    "process_9 = pool.map_async(func, array_combinations[120:135]).get()\n",
    "process_10 = pool.map_async(func, array_combinations[135:150]).get()\n",
    "process_11 = pool.map_async(func, array_combinations[150:165]).get()\n",
    "process_12 = pool.map_async(func, array_combinations[165:180]).get()\n",
    "process_13 = pool.map_async(func, array_combinations[180:195]).get()\n",
    "process_14 = pool.map_async(func, array_combinations[195:210]).get()\n",
    "process_15 = pool.map_async(func, array_combinations[210:225]).get()\n",
    "process_16 = pool.map_async(func, array_combinations[225:240]).get()\n",
    "process_17 = pool.map_async(func, array_combinations[240:255]).get()\n",
    "process_18 = pool.map_async(func, array_combinations[255:270]).get()\n",
    "process_19 = pool.map_async(func, array_combinations[270:285]).get()\n",
    "process_20 = pool.map_async(func, array_combinations[285:300]).get()\n",
    "process_21 = pool.map_async(func, array_combinations[300:315]).get()\n",
    "process_22 = pool.map_async(func, array_combinations[315:330]).get()\n",
    "process_23 = pool.map_async(func, array_combinations[330:345]).get()\n",
    "process_24 = pool.map_async(func, array_combinations[345:360]).get()\n",
    "process_25 = pool.map_async(func, array_combinations[360:375]).get()\n",
    "process_26 = pool.map_async(func, array_combinations[375:390]).get()\n",
    "process_27 = pool.map_async(func, array_combinations[390:405]).get()\n",
    "process_28 = pool.map_async(func, array_combinations[405:420]).get()\n",
    "process_29 = pool.map_async(func, array_combinations[420:435]).get()\n",
    "process_30 = pool.map_async(func, array_combinations[435:450]).get()\n",
    "process_31 = pool.map_async(func, array_combinations[450:465]).get()\n",
    "process_32 = pool.map_async(func, array_combinations[465:480]).get()\n",
    "process_33 = pool.map_async(func, array_combinations[480:495]).get()\n",
    "process_34 = pool.map_async(func, array_combinations[495:510]).get()\n",
    "process_35 = pool.map_async(func, array_combinations[510:525]).get()\n",
    "process_36 = pool.map_async(func, array_combinations[525:540]).get()\n",
    "process_37 = pool.map_async(func, array_combinations[540:555]).get()\n",
    "process_38 = pool.map_async(func, array_combinations[555:570]).get()\n",
    "process_39 = pool.map_async(func, array_combinations[570:585]).get()\n",
    "process_40 = pool.map_async(func, array_combinations[585:600]).get()\n",
    "process_41 = pool.map_async(func, array_combinations[600:615]).get()\n",
    "process_42 = pool.map_async(func, array_combinations[615:630]).get()\n",
    "process_43 = pool.map_async(func, array_combinations[630:645]).get()\n",
    "process_44 = pool.map_async(func, array_combinations[645:660]).get()\n",
    "process_45 = pool.map_async(func, array_combinations[660:675]).get()\n",
    "process_46 = pool.map_async(func, array_combinations[675:690]).get()\n",
    "process_47 = pool.map_async(func, array_combinations[690:705]).get()\n",
    "process_48 = pool.map_async(func, array_combinations[705:720]).get()"
   ]
  },
  {
   "cell_type": "code",
   "execution_count": 25,
   "metadata": {
    "collapsed": false
   },
   "outputs": [],
   "source": [
    "merged_list = process_1 + process_2 + process_3 + process_4 + process_5 + process_6 + process_7 + process_8 + process_9 + process_10 + process_11 + process_12 + process_13 + process_14 + process_15 + process_16 + process_17 + process_18 + process_19 + process_20 + process_21 + process_22 + process_23 + process_24 + process_25 + process_26 + process_27 + process_28 + process_29 + process_30 + process_31 + process_32 + process_33 + process_34 + process_35 + process_36 + process_37 + process_38 + process_39 + process_40 + process_41 + process_42 + process_43 + process_44 + process_45 + process_46 + process_47 + process_48"
   ]
  },
  {
   "cell_type": "code",
   "execution_count": 26,
   "metadata": {
    "collapsed": false
   },
   "outputs": [],
   "source": [
    "final_list = []\n",
    "for i in merged_list:\n",
    "    final_list.append(i[0])"
   ]
  },
  {
   "cell_type": "code",
   "execution_count": 28,
   "metadata": {
    "collapsed": false
   },
   "outputs": [
    {
     "data": {
      "text/plain": [
       "6.516"
      ]
     },
     "execution_count": 28,
     "metadata": {},
     "output_type": "execute_result"
    }
   ],
   "source": [
    "max(final_list)"
   ]
  },
  {
   "cell_type": "code",
   "execution_count": 29,
   "metadata": {
    "collapsed": false
   },
   "outputs": [
    {
     "data": {
      "text/plain": [
       "427"
      ]
     },
     "execution_count": 29,
     "metadata": {},
     "output_type": "execute_result"
    }
   ],
   "source": [
    "final_list.index(6.516)"
   ]
  },
  {
   "cell_type": "code",
   "execution_count": 31,
   "metadata": {
    "collapsed": false
   },
   "outputs": [],
   "source": [
    "optimal_lineup = array_combinations[371]"
   ]
  },
  {
   "cell_type": "code",
   "execution_count": 32,
   "metadata": {
    "collapsed": false
   },
   "outputs": [
    {
     "data": {
      "text/plain": [
       "('Jonah Davis',\n",
       " 'Tanner Dodson',\n",
       " 'Andrew Vaughn',\n",
       " 'Sam Wezniak',\n",
       " 'Darren Baker',\n",
       " 'Tyrus Greene')"
      ]
     },
     "execution_count": 32,
     "metadata": {},
     "output_type": "execute_result"
    }
   ],
   "source": [
    "optimal_lineup"
   ]
  }
 ],
 "metadata": {
  "kernelspec": {
   "display_name": "Python 2",
   "language": "python",
   "name": "python2"
  },
  "language_info": {
   "codemirror_mode": {
    "name": "ipython",
    "version": 3
   },
   "file_extension": ".py",
   "mimetype": "text/x-python",
   "name": "python",
   "nbconvert_exporter": "python",
   "pygments_lexer": "ipython3",
   "version": "3.5.6"
  }
 },
 "nbformat": 4,
 "nbformat_minor": 0
}
